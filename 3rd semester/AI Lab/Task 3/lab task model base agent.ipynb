{
 "cells": [
  {
   "cell_type": "code",
   "execution_count": 1,
   "id": "53e81125",
   "metadata": {},
   "outputs": [
    {
     "name": "stdout",
     "output_type": "stream",
     "text": [
      "Living Room: Current temperature = 18°C. Turn on heater.\n",
      "Bedroom: Current temperature = 22°C. Turn off heater.\n",
      "Kitchen: Current temperature = 20°C. Turn on heater.\n",
      "Bathroom: Current temperature = 24°C. Turn off heater.\n"
     ]
    }
   ],
   "source": [
    "class ModelBasedReflexAgent:\n",
    "    def __init__(self, desired_temperature):\n",
    "        self.desired_temperature = desired_temperature\n",
    "        self.previous_actions = {}\n",
    "\n",
    "    def perceive(self, current_temperature, room):\n",
    "        return current_temperature, self.previous_actions.get(room)\n",
    "\n",
    "    def act(self, current_temperature, room):\n",
    "        previous_action = self.previous_actions.get(room)\n",
    "        if previous_action is None:\n",
    "            if current_temperature < self.desired_temperature:\n",
    "                action = \"Turn on heater\"\n",
    "            else:\n",
    "                action = \"Turn off heater\"\n",
    "        else:\n",
    "            if current_temperature < self.desired_temperature and previous_action == \"Turn on heater\":\n",
    "                action = \"Keep heater on\"\n",
    "            elif current_temperature >= self.desired_temperature and previous_action == \"Turn off heater\":\n",
    "                action = \"Keep heater off\"\n",
    "            else:\n",
    "                if current_temperature < self.desired_temperature:\n",
    "                    action = \"Turn on heater\"\n",
    "                else:\n",
    "                    action = \"Turn off heater\"\n",
    "\n",
    "        self.previous_actions[room] = action\n",
    "        return action\n",
    "    \n",
    "rooms = {\n",
    "    \"Living Room\": 18,\n",
    "    \"Bedroom\": 22,\n",
    "    \"Kitchen\": 20,\n",
    "    \"Bathroom\": 24\n",
    "}\n",
    "\n",
    "desired_temperature = 22\n",
    "agent = ModelBasedReflexAgent(desired_temperature)\n",
    "\n",
    "for room, temperature in rooms.items():\n",
    "    action = agent.act(temperature, room)\n",
    "    print(f\"{room}: Current temperature = {temperature}°C. {action}.\")"
   ]
  }
 ],
 "metadata": {
  "kernelspec": {
   "display_name": "Python 3 (ipykernel)",
   "language": "python",
   "name": "python3"
  },
  "language_info": {
   "codemirror_mode": {
    "name": "ipython",
    "version": 3
   },
   "file_extension": ".py",
   "mimetype": "text/x-python",
   "name": "python",
   "nbconvert_exporter": "python",
   "pygments_lexer": "ipython3",
   "version": "3.11.5"
  }
 },
 "nbformat": 4,
 "nbformat_minor": 5
}
