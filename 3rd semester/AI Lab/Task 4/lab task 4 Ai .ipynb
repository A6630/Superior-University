{
 "cells": [
  {
   "cell_type": "code",
   "execution_count": 1,
   "id": "4ce3df9f",
   "metadata": {},
   "outputs": [
    {
     "name": "stdout",
     "output_type": "stream",
     "text": [
      "4782780033114243 is a valid number.\n"
     ]
    }
   ],
   "source": [
    "def luhn_algorithm(card_number):\n",
    "    digits = [int(digit) for digit in str(card_number)][::-1]\n",
    "    \n",
    "    total_sum = 0\n",
    "    \n",
    "    for i, digit in enumerate(digits):\n",
    "        if i % 2 == 1: \n",
    "            digit *= 2\n",
    "            if digit > 9:\n",
    "                digit -= 9 \n",
    "        \n",
    "        total_sum += digit\n",
    "    \n",
    "    \n",
    "    return total_sum % 10 == 0\n",
    "\n",
    "card_number = \"4782780033114243\"\n",
    "if luhn_algorithm(card_number):\n",
    "    print(f\"{card_number} is a valid number.\")\n",
    "else:\n",
    "    print(f\"{card_number} is an invalid number.\")\n"
   ]
  },
  {
   "cell_type": "code",
   "execution_count": 2,
   "id": "13e41e6e",
   "metadata": {},
   "outputs": [
    {
     "name": "stdout",
     "output_type": "stream",
     "text": [
      "Assalamoalaikum here is Ali nawaz \n"
     ]
    }
   ],
   "source": [
    "def remove_punctuations(user_input):\n",
    "    punctuations = '''!()-[]{};:'\"\\,<>./?@#$%^&*_~'''\n",
    "    no_punct = \"\"\n",
    "    \n",
    "    for char in user_input:\n",
    "        if char not in punctuations:\n",
    "            no_punct += char\n",
    "    \n",
    "    return no_punct\n",
    "user_input = \"Assalamoalaikum! here is Ali nawaz .\"\n",
    "result = remove_punctuations(user_input)\n",
    "print(result)\n"
   ]
  },
  {
   "cell_type": "code",
   "execution_count": 3,
   "id": "4b30cd60",
   "metadata": {},
   "outputs": [
    {
     "name": "stdout",
     "output_type": "stream",
     "text": [
      "PUBG era new of the to welcome\n"
     ]
    }
   ],
   "source": [
    "def sort_words_alphabetically(text):\n",
    "    words = text.split()\n",
    "    n = len(words)\n",
    "    for i in range(n):\n",
    "        for j in range(0, n - i - 1):\n",
    "            if words[j] > words[j + 1]:\n",
    "                words[j], words[j + 1] = words[j + 1], words[j]\n",
    "    \n",
    "    return ' '.join(words)\n",
    "\n",
    "\n",
    "text = \"welcome to the new era of PUBG \"\n",
    "sorted_text = sort_words_alphabetically(text)\n",
    "print(sorted_text)\n"
   ]
  },
  {
   "cell_type": "code",
   "execution_count": null,
   "id": "728d4963",
   "metadata": {},
   "outputs": [],
   "source": []
  }
 ],
 "metadata": {
  "kernelspec": {
   "display_name": "Python 3 (ipykernel)",
   "language": "python",
   "name": "python3"
  },
  "language_info": {
   "codemirror_mode": {
    "name": "ipython",
    "version": 3
   },
   "file_extension": ".py",
   "mimetype": "text/x-python",
   "name": "python",
   "nbconvert_exporter": "python",
   "pygments_lexer": "ipython3",
   "version": "3.11.5"
  }
 },
 "nbformat": 4,
 "nbformat_minor": 5
}
