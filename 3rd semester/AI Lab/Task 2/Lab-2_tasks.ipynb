{
 "cells": [
  {
   "cell_type": "code",
   "execution_count": 5,
   "id": "eee3aadf",
   "metadata": {},
   "outputs": [
    {
     "name": "stdout",
     "output_type": "stream",
     "text": [
      "enter your number: 8\n",
      "The game is over.\n"
     ]
    }
   ],
   "source": [
    "while True:\n",
    "    try:\n",
    "        \n",
    "    \n",
    "\n",
    "        number = int(input(\"enter your number: \"))\n",
    "\n",
    "        if number % 3 == 0 and number % 5 == 0:\n",
    "            print(\"Fizz Buzz\")\n",
    "        elif number % 3 == 0:\n",
    "            print(\"Fizz\")\n",
    "        elif number % 5 == 0:\n",
    "            print(\"Buzz\")\n",
    "        else:\n",
    "            print(\"The game is over.\")\n",
    "            break\n",
    "            \n",
    "    except ValueError:\n",
    "        print(\"enter a valid integer\")\n"
   ]
  },
  {
   "cell_type": "code",
   "execution_count": null,
   "id": "5588acec",
   "metadata": {},
   "outputs": [],
   "source": []
  }
 ],
 "metadata": {
  "kernelspec": {
   "display_name": "Python 3 (ipykernel)",
   "language": "python",
   "name": "python3"
  },
  "language_info": {
   "codemirror_mode": {
    "name": "ipython",
    "version": 3
   },
   "file_extension": ".py",
   "mimetype": "text/x-python",
   "name": "python",
   "nbconvert_exporter": "python",
   "pygments_lexer": "ipython3",
   "version": "3.11.5"
  }
 },
 "nbformat": 4,
 "nbformat_minor": 5
}
